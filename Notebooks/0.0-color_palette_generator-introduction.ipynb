{
 "cells": [
  {
   "cell_type": "markdown",
   "metadata": {},
   "source": [
    "## Libraries"
   ]
  },
  {
   "cell_type": "code",
   "execution_count": 2,
   "metadata": {},
   "outputs": [],
   "source": [
    "import openai\n",
    "import os\n",
    "from dotenv import dotenv_values"
   ]
  },
  {
   "cell_type": "markdown",
   "metadata": {},
   "source": [
    "## Set Working Directory"
   ]
  },
  {
   "cell_type": "code",
   "execution_count": 3,
   "metadata": {},
   "outputs": [],
   "source": [
    "config = dotenv_values(dotenv_path = \"../../02_Getting_Started/.env\")"
   ]
  },
  {
   "cell_type": "code",
   "execution_count": 4,
   "metadata": {},
   "outputs": [],
   "source": [
    "openai.api_key = config[\"OPENAI_API_KEY\"]"
   ]
  },
  {
   "cell_type": "markdown",
   "metadata": {},
   "source": [
    "## Prompting"
   ]
  },
  {
   "cell_type": "code",
   "execution_count": 10,
   "metadata": {},
   "outputs": [
    {
     "name": "stdout",
     "output_type": "stream",
     "text": [
      "\n",
      "[\"#D8E2DC\", \"#FFE5D9\", \"#FF8C5D\", \"#A8DADC\", \"#1D3557\"]\n"
     ]
    }
   ],
   "source": [
    "msg = \"Google colors\"\n",
    "\n",
    "prompt = \"\"\"\n",
    "            You are a color palette generating assistant that responds to text prompts for color palettes.\n",
    "            You should generate color palettes that fit the theme, mood, or instructions in the prompt.\n",
    "            The palettes should be between 2 and 8 colors.\n",
    "            \n",
    "            Please follow the next example, it's important that the response will be only de list with the colors, no more else\n",
    "            \n",
    "            Q: Convert the following verbal description of a color palette into a list of colors: The mediterranean sea\n",
    "            A: [\"#006699\", \"#66CCCC\", \"#F0E68C\", \"#008000\", \"#F08080\"]\n",
    "            \n",
    "            Q: Convert the following verbal description of a color palette into a list of colors: sage, nature, earth\n",
    "            A: [\"#EDF1D6\", \"#9DC08B\", \"#609966\", \"#40513B\"]\n",
    "                       \n",
    "            Desired format: a JSON array of hexadecimal color codes\n",
    "            \n",
    "            Q: Convert the following verbal description of a color palette into a list of colors: {msg}\n",
    "            A:\n",
    "        \"\"\"\n",
    "\n",
    "response = openai.Completion.create(\n",
    "    prompt= prompt,\n",
    "    model= \"gpt-3.5-turbo-instruct\",\n",
    "    max_tokens= 200\n",
    ")\n",
    "\n",
    "print(response[\"choices\"][0][\"text\"])"
   ]
  },
  {
   "cell_type": "markdown",
   "metadata": {},
   "source": [
    "## Printing colors"
   ]
  },
  {
   "cell_type": "code",
   "execution_count": 24,
   "metadata": {},
   "outputs": [],
   "source": [
    "from IPython.display import Markdown, display\n",
    "\n",
    "def display_colors(colors):\n",
    "    display(Markdown(\" \".join(\n",
    "        f\"<span style='color: {color}'> {chr(9608)} </span>\"\n",
    "        for color in colors\n",
    "    )))"
   ]
  },
  {
   "cell_type": "code",
   "execution_count": 25,
   "metadata": {},
   "outputs": [
    {
     "data": {
      "text/markdown": [
       "<span style='color: #010205'> █ </span> <span style='color: #9A2211'> █ </span> <span style='color: #134431'> █ </span> <span style='color: #041429'> █ </span> <span style='color: #110326'> █ </span> <span style='color: #502C50'> █ </span> <span style='color: #0D1323'> █ </span> <span style='color: #3F221B'> █ </span>"
      ],
      "text/plain": [
       "<IPython.core.display.Markdown object>"
      ]
     },
     "metadata": {},
     "output_type": "display_data"
    }
   ],
   "source": [
    "display_colors([\"#010205\", \"#9A2211\", \"#134431\", \"#041429\", \"#110326\", \"#502C50\", \"#0D1323\", \"#3F221B\"])"
   ]
  },
  {
   "cell_type": "markdown",
   "metadata": {},
   "source": [
    "### Final ideas to add:"
   ]
  },
  {
   "cell_type": "markdown",
   "metadata": {},
   "source": [
    "Maybe, using a image generator, we can to create a image that uses the palette color to promoting, even using the promt"
   ]
  },
  {
   "cell_type": "markdown",
   "metadata": {},
   "source": []
  }
 ],
 "metadata": {
  "kernelspec": {
   "display_name": "mastering_openai",
   "language": "python",
   "name": "python3"
  },
  "language_info": {
   "codemirror_mode": {
    "name": "ipython",
    "version": 3
   },
   "file_extension": ".py",
   "mimetype": "text/x-python",
   "name": "python",
   "nbconvert_exporter": "python",
   "pygments_lexer": "ipython3",
   "version": "3.10.13"
  }
 },
 "nbformat": 4,
 "nbformat_minor": 2
}
